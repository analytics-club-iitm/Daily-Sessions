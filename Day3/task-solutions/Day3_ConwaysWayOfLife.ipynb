{
 "cells": [
  {
   "cell_type": "markdown",
   "metadata": {},
   "source": [
    "# Conway's Way of Life\n",
    "Here's a fun way to simulate how a hypothetical colony of (micro?) organisms evolves with time. We have a matrix of given dimensions initialized to zero. Initially, some randomly chosen points are \"**activated**\", which means their value is set to 255 (highest pixel intensity). Starting from here, the matrix (called testbed this point forward) is updated with the following rules:\n",
    "\n",
    "- Any active cell with fewer than two live neighbours dies, as if by underpopulation.\n",
    "- Any active cell with two or three live neighbours lives on to the next generation.\n",
    "- Any active cell with more than three live neighbours dies, as if by overpopulation.\n",
    "- Any dead cell with exactly three live neighbours becomes an active cell, as if by reproduction.\n",
    "\n",
    "The key point in implementing this algorithm is to determine how many neighbors for each node are active. In a rectangular matrix, every node has 8 neighbors forming a square boundary around it. The rules above apply to these 8 neighbors. \n",
    "\n",
    "## Approach\n",
    "To find the state of each node, we consider a sliding windows of size $(3 \\times 3)$ where the center of the window is the node under consideration and its fate is decided by all other nodes in the window. We will end up neglecting nodes on the boundary of the testbed if we perform this operation as is, so we first pad the entire testbed with zeros on all edges. Now starting from the top left, our window slides in a row-major form down to the bottom-right, using the following conditions. Below, consider 1 as a proxy for 255.\n",
    "\n",
    "**(Case 1)** When the window has less than 3 active nodes.\n",
    "<img src=\"files/sum_less_3.jpeg\" style=\"width: 400px;\">\n",
    "The sum of all elements will be lesser than 3. Notice that irrespective of the central node being one or zero, we have to set it to zero.\n",
    "\n",
    "**(Case 2)** When the window has 3 active nodes.\n",
    "<img src=\"files/sum_3.jpeg\" style=\"width: 400px;\">\n",
    "If the central node is initially 1, it survives to the next generation (rule 2) and if it was 0, then it becomes active (rule 4). Thus in both cases, we have to set it to 1.\n",
    "\n",
    "**(Case 3)** When the window has 4 active nodes.\n",
    "<img src=\"files/sum_4.jpeg\" style=\"width: 400px;\">\n",
    "If the central node is initially 1, it survives to the next generation since it has 3 active neighbors (rule 2). If it was initially 0, we will leave it as is since we don't have an update rule specified for this case. So when the sum is 4, we need not take any action.\n",
    "\n",
    "**(Case 4)** When the window has more than 4 active nodes.\n",
    "<img src=\"files/sum_gr_4.jpeg\" style=\"width: 400px;\">\n",
    "In the central node is initially 1, it should die (rule 3). If it was initially zero, we will leave it as 0. In both cases, the central node should become zero. \n",
    "\n",
    "## Caveats\n",
    "In the code below, all of the conditions above have been scaled up to 255. Also, a parameter `density` has been added to testbed initialization. This parameter dictates what percentage of the testbed nodes have to be randomly activated. I was facing issues with embedding the resulting GIF in the notebook, so I have uploaded it as a separate file in the repository."
   ]
  },
  {
   "cell_type": "code",
   "execution_count": 1,
   "metadata": {},
   "outputs": [],
   "source": [
    "# Dependencies\n",
    "import numpy as np\n",
    "from matplotlib import pyplot as plt\n",
    "from matplotlib import animation\n",
    "from IPython.display import HTML       # NOT USED\n",
    "plt.style.use('dark_background')"
   ]
  },
  {
   "cell_type": "code",
   "execution_count": 2,
   "metadata": {},
   "outputs": [],
   "source": [
    "class ConwaysTestbed():\n",
    "    \n",
    "    def __init__(self):\n",
    "        self.testbed = None\n",
    "        self.rows = None\n",
    "        self.cols = None\n",
    "        self.scat = None\n",
    "    \n",
    "    def initialize_testbed(self, n_rows=50, n_cols=50, density=0.5):\n",
    "        \"\"\"\n",
    "        Creates the testbed and randomly activates some nodes based\n",
    "        on specified hyperparameters.\n",
    "        \"\"\"\n",
    "        fig, ax = plt.subplots()\n",
    "        ax.set_xlim((0, n_rows))\n",
    "        ax.set_ylim((0, n_cols))\n",
    "        scat = ax.scatter([], [], marker='.', s=10)\n",
    "        \n",
    "        self.testbed = np.zeros((n_rows+2, n_cols+2))\n",
    "        self.rows = n_rows\n",
    "        self.cols = n_cols\n",
    "        num_active = int(density * n_rows * n_cols)\n",
    "        x_rand = np.random.randint(1, n_rows-1, size=num_active)\n",
    "        y_rand = np.random.randint(1, n_cols-1, size=num_active)\n",
    "        self.testbed[x_rand, y_rand] = 255\n",
    "        return fig, scat\n",
    "    \n",
    "    def find_active_nodes(self):\n",
    "        \"\"\"\n",
    "        Finds locations of active nodes in current testbed state.\n",
    "        \"\"\"\n",
    "        x_locs, y_locs = np.where(self.testbed == 255)\n",
    "        return x_locs, y_locs\n",
    "            \n",
    "    def update_bed(self):\n",
    "        \"\"\"\n",
    "        Performs rolling window operation and updates\n",
    "        state of nodes based on rules described on the top.\n",
    "        \"\"\"\n",
    "        for i in range(1, self.rows-1):\n",
    "            for j in range(1, self.cols-1):\n",
    "                w_mat = self.testbed[i-1:i+2, j-1:j+2]\n",
    "                if np.sum(w_mat) < 255*3:\n",
    "                    self.testbed[i, j] = 0\n",
    "                elif np.sum(w_mat) == 255*3:\n",
    "                    self.testbed[i, j] = 255\n",
    "                elif np.sum(w_mat) == 255*4:\n",
    "                    continue\n",
    "                elif np.sum(w_mat) > 255*4:\n",
    "                    self.testbed[i, j] = 0"
   ]
  },
  {
   "cell_type": "code",
   "execution_count": 3,
   "metadata": {},
   "outputs": [
    {
     "data": {
      "image/png": "[encoded data removed]",
      "text/plain": [
       "<Figure size 432x288 with 1 Axes>"
      ]
     },
     "metadata": {},
     "output_type": "display_data"
    }
   ],
   "source": [
    "# Animation function\n",
    "# An empty pyplot figure will be created, please ignore it\n",
    "tb = ConwaysTestbed()\n",
    "fig, scat = tb.initialize_testbed(n_rows=50, n_cols=50, density=0.1)\n",
    "\n",
    "def animate(i, tb):\n",
    "    tb.update_bed()\n",
    "    x, y = tb.find_active_nodes()\n",
    "    data = np.asarray([x, y]).T\n",
    "    scat.set_offsets(data)\n",
    "    return (scat,)\n",
    "\n",
    "anim = animation.FuncAnimation(fig, animate, frames=200, interval=100, fargs=(tb,)) \n",
    "anim.save('conways.gif', writer='imagemagick') "
   ]
  }
 ],
 "metadata": {
  "kernelspec": {
   "display_name": "Python 3",
   "language": "python",
   "name": "python3"
  },
  "language_info": {
   "codemirror_mode": {
    "name": "ipython",
    "version": 3
   },
   "file_extension": ".py",
   "mimetype": "text/x-python",
   "name": "python",
   "nbconvert_exporter": "python",
   "pygments_lexer": "ipython3",
   "version": "3.6.9"
  }
 },
 "nbformat": 4,
 "nbformat_minor": 2
}
