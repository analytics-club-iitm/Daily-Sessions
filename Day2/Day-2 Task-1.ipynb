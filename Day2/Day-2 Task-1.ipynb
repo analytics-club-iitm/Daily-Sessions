{
 "cells": [
  {
   "cell_type": "code",
   "execution_count": 25,
   "metadata": {},
   "outputs": [],
   "source": [
    "\n",
    "\n",
    "def fibonacci(n):\n",
    "    t1=0\n",
    "    t2=1\n",
    "    for i in range(n+1):\n",
    "        for j in range(i):\n",
    "            if (i==1):\n",
    "                print(1)\n",
    "            else:    \n",
    "                print(t2+t1,end=' ')\n",
    "                temp = t2\n",
    "                t2 = t2+t1\n",
    "                t1 = temp\n",
    "        if(i!=1):\n",
    "            print('')\n",
    "            \n",
    "        \n",
    "    "
   ]
  },
  {
   "cell_type": "code",
   "execution_count": 30,
   "metadata": {},
   "outputs": [
    {
     "name": "stdout",
     "output_type": "stream",
     "text": [
      "\n",
      "1\n",
      "1 2 \n",
      "3 5 8 \n",
      "13 21 34 55 \n",
      "89 144 233 377 610 \n"
     ]
    }
   ],
   "source": [
    "fibonacci(5)"
   ]
  },
  {
   "cell_type": "code",
   "execution_count": null,
   "metadata": {},
   "outputs": [],
   "source": []
  }
 ],
 "metadata": {
  "kernelspec": {
   "display_name": "Python 3",
   "language": "python",
   "name": "python3"
  },
  "language_info": {
   "codemirror_mode": {
    "name": "ipython",
    "version": 3
   },
   "file_extension": ".py",
   "mimetype": "text/x-python",
   "name": "python",
   "nbconvert_exporter": "python",
   "pygments_lexer": "ipython3",
   "version": "3.7.2"
  }
 },
 "nbformat": 4,
 "nbformat_minor": 4
}
